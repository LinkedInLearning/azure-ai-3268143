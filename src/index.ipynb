{
 "cells": [
  {
   "attachments": {},
   "cell_type": "markdown",
   "metadata": {},
   "source": [
    "# Traduction"
   ]
  },
  {
   "attachments": {},
   "cell_type": "markdown",
   "metadata": {},
   "source": [
    "**IMPORTANT** : Créez une ressource *Analytique de texte* ou *Text analytics* et renseignez `SERVEUR` avec votre point de terminaison (endpoint). Récupérez également la clé et renseignez là lors de l'exécution de la première cellule. Faites de même avec une ressource *Traducteur* ou *Translator* sur `TRAD_SERVEUR` en précisant la région dans `TRAD_REGION`."
   ]
  },
  {
   "cell_type": "code",
   "execution_count": 35,
   "metadata": {},
   "outputs": [],
   "source": [
    "from getpass import getpass\n",
    "\n",
    "CLE = getpass(\"Clé d'analyse de texte\")\n",
    "SERVEUR = 'https://textanalysis00.cognitiveservices.azure.com'  # Votre point de terminaison\n",
    "TRAD_CLE = getpass(\"Clé du traducteur\")\n",
    "TRAD_SERVEUR = 'https://api.cognitive.microsofttranslator.com/'  # Votre point de terminaison\n",
    "TRAD_REGION = 'westeurope'\n",
    "\n",
    "TEXTE1 = \"\"\"\n",
    "    There was a minute’s pause perhaps. The Psychologist seemed about to speak to me,\n",
    "    but changed his mind. Then the Time Traveller put forth his finger towards the lever.\n",
    "    'No,' he said suddenly. 'Lend me your hand.' And turning to the Psychologist, he took\n",
    "    that individual's hand in his own and told him to put out his forefinger.\n",
    "    So that it was the Psychologist himself who sent forth the model Time Machine\n",
    "    on its interminable voyage.\n",
    "\"\"\"\n",
    "# H.G.Wells, The Time Machine, Chapter I"
   ]
  },
  {
   "attachments": {},
   "cell_type": "markdown",
   "metadata": {},
   "source": [
    "## Texte"
   ]
  },
  {
   "cell_type": "code",
   "execution_count": 36,
   "metadata": {},
   "outputs": [
    {
     "data": {
      "text/plain": [
       "[{'detectedLanguage': {'language': 'en', 'score': 1.0},\n",
       "  'translations': [{'text': '\\nIl y a peut-être eu une minute de pause. Le psychologue semblait sur le point de me parler,\\n    mais a changé d’avis. Puis le voyageur temporel a avancé son doigt vers le levier.\\n    «\\xa0Non\\xa0», dit-il soudainement. « Prête-moi ta main. » Et se tournant vers le psychologue, il a pris\\n    Cet individu a mis la main dans la sienne et lui a dit de sortir son index.\\n    De sorte que c’est le psychologue lui-même qui a envoyé le modèle de machine à remonter le temps\\n    sur son voyage interminable.\\n',\n",
       "    'to': 'fr'},\n",
       "   {'text': '\\nHubo una pausa de un minuto tal vez. El psicólogo parecía a punto de hablarme,\\n    pero cambió de opinión. Entonces el Viajero del Tiempo extendió su dedo hacia la palanca.\\n    \"No\", dijo de repente. \"Préstame tu mano\". Y dirigiéndose al Psicólogo, tomó\\n    La mano de ese individuo en la suya y le dijo que sacara su dedo índice.\\n    De modo que fue el propio Psicólogo quien envió el modelo de la Máquina del Tiempo.\\n    en su interminable viaje.\\n',\n",
       "    'to': 'es'}]}]"
      ]
     },
     "execution_count": 36,
     "metadata": {},
     "output_type": "execute_result"
    }
   ],
   "source": [
    "import requests\n",
    "\n",
    "reponse = requests.post(\n",
    "    url = f'{TRAD_SERVEUR}/translate',\n",
    "    headers={\n",
    "      'Ocp-Apim-Subscription-Key': TRAD_CLE,\n",
    "      'Ocp-Apim-Subscription-Region': TRAD_REGION\n",
    "    },\n",
    "    params = {\n",
    "        'api-version': '3.0',\n",
    "        'to': ['fr', 'es']\n",
    "    },\n",
    "    json=[{'text': TEXTE1}]\n",
    ")\n",
    "reponse.json()"
   ]
  },
  {
   "attachments": {},
   "cell_type": "markdown",
   "metadata": {},
   "source": [
    "## Traductions alternatives d'un mot"
   ]
  },
  {
   "attachments": {},
   "cell_type": "markdown",
   "metadata": {},
   "source": [
    "On réutilise l'analyse de texte pour isoler les mots importants."
   ]
  },
  {
   "cell_type": "code",
   "execution_count": 37,
   "metadata": {},
   "outputs": [
    {
     "data": {
      "text/plain": [
       "['Psychologist',\n",
       " 'Time Traveller',\n",
       " \"individual's hand\",\n",
       " 'model Time Machine',\n",
       " 'interminable voyage',\n",
       " 'minute’s pause',\n",
       " 'lever',\n",
       " 'mind',\n",
       " 'forefinger']"
      ]
     },
     "execution_count": 37,
     "metadata": {},
     "output_type": "execute_result"
    }
   ],
   "source": [
    "import requests\n",
    "\n",
    "reponse = requests.post(\n",
    "  url = f'{SERVEUR}/text/analytics/v2.1/keyPhrases',\n",
    "  headers = { 'Ocp-Apim-Subscription-Key': CLE },\n",
    "  json = { 'documents': [{'id': '1', 'language': 'en', 'text': TEXTE1}] }\n",
    ")\n",
    "phrases = reponse.json()['documents'][0]['keyPhrases']\n",
    "phrases"
   ]
  },
  {
   "attachments": {},
   "cell_type": "markdown",
   "metadata": {},
   "source": [
    "On les cherche dans un dictionnaire."
   ]
  },
  {
   "cell_type": "code",
   "execution_count": 38,
   "metadata": {},
   "outputs": [
    {
     "data": {
      "text/plain": [
       "[{'psychologist': [('psychologue', 'NOUN'), ('psy', 'NOUN')]},\n",
       " {'Time Traveller': []},\n",
       " {\"individual's hand\": []},\n",
       " {'model Time Machine': []},\n",
       " {'interminable voyage': []},\n",
       " {'minute’s pause': []},\n",
       " {'lever': [('levier', 'NOUN'), ('manette', 'NOUN')]},\n",
       " {'mind': [('esprit', 'NOUN'),\n",
       "   ('mental', 'NOUN'),\n",
       "   ('me dérange', 'VERB'),\n",
       "   ('dérange', 'VERB'),\n",
       "   ('tête', 'NOUN'),\n",
       "   ('entendement', 'NOUN'),\n",
       "   ('avis', 'NOUN'),\n",
       "   ('pensée', 'NOUN')]},\n",
       " {'forefinger': [('index', 'NOUN')]}]"
      ]
     },
     "execution_count": 38,
     "metadata": {},
     "output_type": "execute_result"
    }
   ],
   "source": [
    "reponse = requests.post(\n",
    "    url = TRAD_SERVEUR + '/dictionary/lookup',\n",
    "    headers = {\n",
    "      'Ocp-Apim-Subscription-Key': TRAD_CLE,\n",
    "      'Ocp-Apim-Subscription-Region': TRAD_REGION\n",
    "    },\n",
    "    params = {\n",
    "        'api-version': '3.0',\n",
    "        'from': 'en',\n",
    "        'to': 'fr'\n",
    "    },\n",
    "    json = [{ 'text': p } for p in phrases ]\n",
    ")\n",
    "[ { phrase['normalizedSource'] : \n",
    "    [ (trad['normalizedTarget'], trad['posTag']) \n",
    "      for trad in phrase['translations']\n",
    "    ]\n",
    "  } \n",
    "  for phrase in reponse.json()\n",
    "]"
   ]
  }
 ],
 "metadata": {
  "kernelspec": {
   "display_name": "Python 3",
   "language": "python",
   "name": "python3"
  },
  "language_info": {
   "codemirror_mode": {
    "name": "ipython",
    "version": 3
   },
   "file_extension": ".py",
   "mimetype": "text/x-python",
   "name": "python",
   "nbconvert_exporter": "python",
   "pygments_lexer": "ipython3",
   "version": "3.10.8"
  },
  "orig_nbformat": 4
 },
 "nbformat": 4,
 "nbformat_minor": 2
}
