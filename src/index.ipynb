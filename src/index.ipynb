{
 "cells": [
  {
   "attachments": {},
   "cell_type": "markdown",
   "metadata": {},
   "source": [
    "# Modération de contenu"
   ]
  },
  {
   "attachments": {},
   "cell_type": "markdown",
   "metadata": {},
   "source": [
    "**IMPORTANT** : Créez une ressource *Content Moderator* (ne pas confondre avec *AI Content Safety*) et renseignez `SERVEUR` avec votre point de terminaison (endpoint). Récupérez également la clé et renseignez là lors de l'exécution de la première cellule."
   ]
  },
  {
   "cell_type": "code",
   "execution_count": 3,
   "metadata": {},
   "outputs": [],
   "source": [
    "from getpass import getpass\n",
    "\n",
    "CLE = getpass('Clé')\n",
    "SERVEUR = 'https://moder00.cognitiveservices.azure.com/'\n",
    "\n",
    "# Ce produit est nul...\n",
    "TEXTE = \"Ce porduit est nul, ils m'ont pris pour un idiot. Contactez-moi sur mon mail : spam@syllab.com\"\n"
   ]
  },
  {
   "attachments": {},
   "cell_type": "markdown",
   "metadata": {},
   "source": [
    "## Simple"
   ]
  },
  {
   "cell_type": "code",
   "execution_count": 4,
   "metadata": {},
   "outputs": [
    {
     "data": {
      "text/plain": [
       "{'OriginalText': \"Ce porduit est nul, ils m'ont pris pour un idiot. Contactez-moi sur mon mail : spam@syllab.com\",\n",
       " 'NormalizedText': \"Ce porduit est nul, ils m'ont pris pour  idiot. Contactez-moi sur mon mail : spam@syllab.com\",\n",
       " 'AutoCorrectedText': \"Ce produit est nul, ils m'ont pris pour un idiot. Contactez-moi sur mon mail : spam@syllab.com\",\n",
       " 'Misrepresentation': None,\n",
       " 'PII': {'Email': [{'Detected': 'spam@syllab.com',\n",
       "    'SubType': 'Regular',\n",
       "    'Text': 'spam@syllab.com',\n",
       "    'Index': 79}],\n",
       "  'IPA': [],\n",
       "  'Phone': [],\n",
       "  'Address': [],\n",
       "  'SSN': []},\n",
       " 'Language': 'fra',\n",
       " 'Terms': None,\n",
       " 'Status': {'Code': 3000, 'Description': 'OK', 'Exception': None},\n",
       " 'TrackingId': 'ca23706d-3438-4b5e-bdf8-9cba85aabd3f'}"
      ]
     },
     "execution_count": 4,
     "metadata": {},
     "output_type": "execute_result"
    }
   ],
   "source": [
    "import requests\n",
    "\n",
    "reponse = requests.post(\n",
    "  url = f'{SERVEUR}/contentmoderator/moderate/v1.0/ProcessText/Screen',\n",
    "  headers = {\n",
    "    'Ocp-Apim-Subscription-Key': CLE,\n",
    "    'Content-Type': 'text/plain; charset=utf-8'\n",
    "  },\n",
    "  params = {'autocorrect': True, 'PII': True},\n",
    "  data = TEXTE\n",
    ")\n",
    "reponse.json()"
   ]
  },
  {
   "attachments": {},
   "cell_type": "markdown",
   "metadata": {},
   "source": [
    "## Création d'un liste de modération"
   ]
  },
  {
   "cell_type": "code",
   "execution_count": 5,
   "metadata": {},
   "outputs": [
    {
     "data": {
      "text/plain": [
       "{'Id': 113,\n",
       " 'Name': 'Boutique',\n",
       " 'Description': 'Liste des termes sensibles dans les commentaires de la boutique',\n",
       " 'Metadata': {'Projet': 'Boutique', 'Role': 'public'}}"
      ]
     },
     "execution_count": 5,
     "metadata": {},
     "output_type": "execute_result"
    }
   ],
   "source": [
    "reponse = requests.post(\n",
    "  url = f'{SERVEUR}/contentmoderator/lists/v1.0/termlists',\n",
    "  headers = {\n",
    "    'Ocp-Apim-Subscription-Key': CLE,\n",
    "    'Content-Type': 'application/json'\n",
    "  },\n",
    "  json={\n",
    "    \"Name\": \"Boutique\",\n",
    "    \"Description\": \"Liste des termes sensibles dans les commentaires de la boutique\",\n",
    "    \"Metadata\": {\n",
    "      \"Projet\": \"Boutique\",\n",
    "      \"Role\": \"public\"\n",
    "    }\n",
    "  }\n",
    ")\n",
    "resultat = reponse.json()\n",
    "listId = resultat['Id']\n",
    "resultat"
   ]
  },
  {
   "attachments": {},
   "cell_type": "markdown",
   "metadata": {},
   "source": [
    "## Énumération des listes"
   ]
  },
  {
   "cell_type": "code",
   "execution_count": 6,
   "metadata": {},
   "outputs": [
    {
     "data": {
      "text/plain": [
       "[{'Id': 113,\n",
       "  'Name': 'Boutique',\n",
       "  'Description': 'Liste des termes sensibles dans les commentaires de la boutique',\n",
       "  'Metadata': {'Projet': 'Boutique', 'Role': 'public'}}]"
      ]
     },
     "execution_count": 6,
     "metadata": {},
     "output_type": "execute_result"
    }
   ],
   "source": [
    "reponse = requests.get(\n",
    "    url = f'{SERVEUR}/contentmoderator/lists/v1.0/termlists/',\n",
    "    headers = { 'Ocp-Apim-Subscription-Key': CLE }\n",
    ")\n",
    "reponse.json()"
   ]
  },
  {
   "attachments": {},
   "cell_type": "markdown",
   "metadata": {},
   "source": [
    "## Ajout de termes dans la liste"
   ]
  },
  {
   "cell_type": "code",
   "execution_count": 7,
   "metadata": {},
   "outputs": [
    {
     "name": "stdout",
     "output_type": "stream",
     "text": [
      "<Response [201]>\n",
      "<Response [201]>\n",
      "<Response [201]>\n"
     ]
    }
   ],
   "source": [
    "import time\n",
    "\n",
    "ATTENTE_OFFRE_ESSAI = 2\n",
    "\n",
    "for terme in ['bidon', 'arnaque', 'KONK']:\n",
    "  reponse = requests.post(\n",
    "    url = f'{SERVEUR}/contentmoderator/lists/v1.0/termlists/{listId}/terms/{terme}',\n",
    "    params = {'language': 'fra'},\n",
    "    headers = {'Ocp-Apim-Subscription-Key': CLE}\n",
    "  )\n",
    "  print(reponse)\n",
    "  time.sleep(ATTENTE_OFFRE_ESSAI)\n"
   ]
  },
  {
   "attachments": {},
   "cell_type": "markdown",
   "metadata": {},
   "source": [
    "## Rafraîchissement de l'index de la liste"
   ]
  },
  {
   "cell_type": "code",
   "execution_count": 8,
   "metadata": {},
   "outputs": [
    {
     "data": {
      "text/plain": [
       "{'ContentSourceId': '113',\n",
       " 'IsUpdateSuccess': True,\n",
       " 'AdvancedInfo': [],\n",
       " 'Status': {'Code': 3000, 'Description': 'OK', 'Exception': None},\n",
       " 'TrackingId': 'b961fea1-5aba-4b41-bad0-ad0226bfcac2'}"
      ]
     },
     "execution_count": 8,
     "metadata": {},
     "output_type": "execute_result"
    }
   ],
   "source": [
    "reponse = requests.post(\n",
    "    url = f'{SERVEUR}/contentmoderator/lists/v1.0/termlists/{listId}/RefreshIndex',\n",
    "    params = { 'language': 'fra' },\n",
    "    headers = { 'Ocp-Apim-Subscription-Key': CLE }\n",
    ")\n",
    "reponse.json()"
   ]
  },
  {
   "attachments": {},
   "cell_type": "markdown",
   "metadata": {},
   "source": [
    "## Recherche de termes avec liste personnalisée"
   ]
  },
  {
   "cell_type": "code",
   "execution_count": 10,
   "metadata": {},
   "outputs": [],
   "source": [
    "listId = reponse.json()['ContentSourceId']"
   ]
  },
  {
   "cell_type": "code",
   "execution_count": 11,
   "metadata": {},
   "outputs": [
    {
     "data": {
      "text/plain": [
       "{'OriginalText': \"N'y allez pas c'est une arnaque. Allez plutôt chez KONK\",\n",
       " 'NormalizedText': \"N'y allez pas c'est une arnaque. Allez plutôt chez KONK\",\n",
       " 'AutoCorrectedText': \"N'y allez pas c'est une arnaque. Allez plutôt chez KONK\",\n",
       " 'Misrepresentation': None,\n",
       " 'Language': 'fra',\n",
       " 'Terms': [{'Index': 24,\n",
       "   'OriginalIndex': 24,\n",
       "   'ListId': 113,\n",
       "   'Term': 'arnaque'},\n",
       "  {'Index': 51, 'OriginalIndex': 51, 'ListId': 113, 'Term': 'KONK'}],\n",
       " 'Status': {'Code': 3000, 'Description': 'OK', 'Exception': None},\n",
       " 'TrackingId': '0b1945c3-2048-4c7d-bc3a-85f476be5ff5'}"
      ]
     },
     "execution_count": 11,
     "metadata": {},
     "output_type": "execute_result"
    }
   ],
   "source": [
    "reponse = requests.post(\n",
    "  url = f'{SERVEUR}/contentmoderator/moderate/v1.0/ProcessText/Screen',\n",
    "  headers={\n",
    "    'Ocp-Apim-Subscription-Key': CLE,\n",
    "    'Content-Type': 'text/plain; charset=utf-8'\n",
    "  },\n",
    "  params={\n",
    "    'autocorrect': True,\n",
    "    'PII': True,\n",
    "    'listId': listId\n",
    "  },\n",
    "  data = \"N'y allez pas c'est une arnaque. Allez plutôt chez KONK.\"\n",
    ")\n",
    "\n",
    "reponse.json()"
   ]
  }
 ],
 "metadata": {
  "kernelspec": {
   "display_name": "Python 3",
   "language": "python",
   "name": "python3"
  },
  "language_info": {
   "codemirror_mode": {
    "name": "ipython",
    "version": 3
   },
   "file_extension": ".py",
   "mimetype": "text/x-python",
   "name": "python",
   "nbconvert_exporter": "python",
   "pygments_lexer": "ipython3",
   "version": "3.10.8"
  },
  "orig_nbformat": 4
 },
 "nbformat": 4,
 "nbformat_minor": 2
}
