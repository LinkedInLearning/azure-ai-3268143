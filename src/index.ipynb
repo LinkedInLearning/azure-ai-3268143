{
  "cells": [
    {
      "cell_type": "markdown",
      "metadata": {},
      "source": [
        "# Personnalisation"
      ]
    },
    {
      "attachments": {},
      "cell_type": "markdown",
      "metadata": {},
      "source": [
        "**IMPORTANT** : Créez une ressource *Personalizer* et renseignez `SERVEUR` avec votre point de terminaison (endpoint). Récupérez également la clé et renseignez là lors de l'exécution de la première cellule."
      ]
    },
    {
      "attachments": {},
      "cell_type": "markdown",
      "metadata": {},
      "source": [
        "**Paramétrage** dans *Gestion des ressources/Installation* :\n",
        "- Durée d'attente de la récompense = 30s,\n",
        "- Fréquence de mise à jour = 1min"
      ]
    },
    {
      "cell_type": "code",
      "execution_count": 1,
      "metadata": {
        "trusted": true
      },
      "outputs": [],
      "source": [
        "from getpass import getpass\n",
        "\n",
        "CLE = getpass()\n",
        "SERVEUR = 'https://perso00.cognitiveservices.azure.com/'"
      ]
    },
    {
      "cell_type": "code",
      "execution_count": 2,
      "metadata": {
        "trusted": true
      },
      "outputs": [],
      "source": [
        "from datetime import datetime\n",
        "import random, requests\n",
        " \n",
        "liste_menus = {\n",
        "    'heure' : { 'titre'  : 'Heure' , 'action' : lambda: datetime.now().strftime('%x') },\n",
        "    'date'  : { 'titre'  : 'Date'  , 'action' : lambda: datetime.now().strftime('%X') },\n",
        "    'hasard': { 'titre'  : 'Hasard', 'action' : lambda: random.randint(0,100) },\n",
        "    'monty' : { 'titre'  : 'Monty' , 'action' : lambda: \"Ministry of silly walk\" },\n",
        "    'haiku' : { 'titre'  : 'Haiku' , 'action' : lambda: \"Un vieil étang / Une grenouille qui plonge, / Le bruit de l'eau.\" },\n",
        "    'star'  : { 'titre'  : 'Star'  , 'action' : lambda: ['Graham Chapman', 'John Cleese', 'Eric Idle', 'Michael Palin', 'Terry Jones', 'Terry Gilliam'][random.randint(0,5)] }\n",
        "}"
      ]
    },
    {
      "cell_type": "code",
      "execution_count": null,
      "metadata": {
        "trusted": true
      },
      "outputs": [],
      "source": [
        "from pprint import pprint\n",
        "from IPython.display import clear_output\n",
        "\n",
        "continuer = True\n",
        "while continuer:\n",
        "    # Demande de classement\n",
        "    reponse = requests.post(\n",
        "        url = SERVEUR + '/personalizer/v1.0/rank',\n",
        "        headers = {\n",
        "            'Ocp-Apim-Subscription-Key': CLE,\n",
        "            'Content-Type': 'application/json'\n",
        "        },\n",
        "        json = {\n",
        "            'contextFeatures': [ {'moment':'matin'}, {'lancement':'icone'}],\n",
        "            'actions': [{ 'id': menu, 'features': [{'type': menu }] } for menu in liste_menus ]\n",
        "        }\n",
        "    )\n",
        "    resultat = reponse.json()\n",
        "    evenement = resultat['eventId']\n",
        "    \n",
        "    # Tri et affichage du menu proposé\n",
        "    clear_output()\n",
        "    classement = sorted(resultat['ranking'], key=lambda e:-e['probability'])\n",
        "    i = 1\n",
        "    for menu in classement:\n",
        "        print(\"%d. %s (%.2f)\"%(i, liste_menus[menu['id']]['titre'], menu['probability']), flush=True)\n",
        "        i += 1\n",
        "    print(f'{i}. Quitter', flush=True)\n",
        "    choix = int(input(\"Votre choix ? \"))\n",
        "    \n",
        "    # Envoi de la récompense/punition\n",
        "    if choix == i:\n",
        "        continuer = False\n",
        "    else:\n",
        "        print(liste_menus[classement[choix-1]['id']]['action']())\n",
        "        recompense = 1 if choix==1 else 0.2-0.2*choix\n",
        "        reponse = requests.post(\n",
        "            url = f'{SERVEUR}/personalizer/v1.0/events/{evenement}/reward',\n",
        "            headers = {\n",
        "                'Ocp-Apim-Subscription-Key': CLE,\n",
        "                'Content-Type': 'application/json'\n",
        "            },\n",
        "            json = { 'value': recompense }\n",
        "        )\n",
        "        print(f'(récompense {recompense} ({reponse})')"
      ]
    },
    {
      "cell_type": "markdown",
      "metadata": {},
      "source": [
        "Tout effacer :"
      ]
    },
    {
      "cell_type": "code",
      "execution_count": null,
      "metadata": {
        "trusted": true
      },
      "outputs": [],
      "source": [
        "for suppr in ['logs', 'model']:\n",
        "    reponse = requests.delete(\n",
        "        url = f'{SERVEUR}/personalizer/v1.0/{suppr}',\n",
        "        headers = { 'Ocp-Apim-Subscription-Key': CLE }\n",
        "    )\n",
        "    print(f'{suppr} : {reponse}')\n",
        "        "
      ]
    }
  ],
  "metadata": {
    "kernelspec": {
      "display_name": "Python 3",
      "language": "python",
      "name": "python3"
    },
    "language_info": {
      "codemirror_mode": {
        "name": "ipython",
        "version": 3
      },
      "file_extension": ".py",
      "mimetype": "text/x-python",
      "name": "python",
      "nbconvert_exporter": "python",
      "pygments_lexer": "ipython3",
      "version": "3.10.8"
    }
  },
  "nbformat": 4,
  "nbformat_minor": 2
}
