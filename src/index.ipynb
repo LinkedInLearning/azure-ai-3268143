{
 "cells": [
  {
   "attachments": {},
   "cell_type": "markdown",
   "metadata": {},
   "source": [
    "# Identification (Accès restreint)"
   ]
  },
  {
   "attachments": {},
   "cell_type": "markdown",
   "metadata": {},
   "source": [
    "**IMPORTANT :** Demandez une autorisation sur : https://aka.ms/azure-speaker-recognition. Renseignez `SERVEUR` avec le serveur de votre point de terminaison (endpoint) et `PROFIL` avec l'identifiant de profil obtenu à l'étape précédente. Récupérez également la clé et renseignez là lors de l'exécution de la première cellule."
   ]
  },
  {
   "cell_type": "code",
   "execution_count": 1,
   "metadata": {},
   "outputs": [],
   "source": [
    "from getpass import getpass\n",
    "\n",
    "CLE = getpass(\"Clé\")\n",
    "SERVEUR = 'https://francecentral.api.cognitive.microsoft.com'  # Votre serveur de endpoint\n",
    "\n",
    "PROFIL = ''"
   ]
  },
  {
   "attachments": {},
   "cell_type": "markdown",
   "metadata": {},
   "source": [
    "## Tentative d'identification"
   ]
  },
  {
   "cell_type": "code",
   "execution_count": null,
   "metadata": {},
   "outputs": [],
   "source": [
    "import requests\n",
    "\n",
    "reponse = requests.post(\n",
    "    url=f'{SERVEUR}/speaker-recognition/identification/text-independent/profiles:identifySingleSpeaker?api-version=2021-09-05&profileIds={PROFIL}',\n",
    "    headers={'Ocp-Apim-Subscription-Key': CLE},\n",
    "    json={'locale': 'fr-FR'}\n",
    ")\n",
    "resultat = reponse.json()\n",
    "resultat"
   ]
  },
  {
   "cell_type": "code",
   "execution_count": null,
   "metadata": {},
   "outputs": [],
   "source": [
    "if reponse.status_code == 200:\n",
    "  if resultat[\"identifiedProfile\"][\"score\"]<.40:\n",
    "    adverbe = ' peut-être'\n",
    "  elif resultat[\"identifiedProfile\"][\"score\"]<.70:\n",
    "    adverbe = ' sûrement'\n",
    "  else:\n",
    "    adverbe = ''\n",
    "  print(f\"Oui, c'est{adverbe} lui !\")\n",
    "else:\n",
    "  print(\"Non ce n'est pas lui.\")\n"
   ]
  }
 ],
 "metadata": {
  "kernelspec": {
   "display_name": "Python 3",
   "language": "python",
   "name": "python3"
  },
  "language_info": {
   "codemirror_mode": {
    "name": "ipython",
    "version": 3
   },
   "file_extension": ".py",
   "mimetype": "text/x-python",
   "name": "python",
   "nbconvert_exporter": "python",
   "pygments_lexer": "ipython3",
   "version": "3.10.8"
  },
  "orig_nbformat": 4
 },
 "nbformat": 4,
 "nbformat_minor": 2
}
