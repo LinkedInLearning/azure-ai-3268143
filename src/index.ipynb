{
 "cells": [
  {
   "attachments": {},
   "cell_type": "markdown",
   "metadata": {},
   "source": [
    "# Répertoire de voix (Accès restreint)"
   ]
  },
  {
   "attachments": {},
   "cell_type": "markdown",
   "metadata": {},
   "source": [
    "**IMPORTANT :** Demandez une autorisation sur : https://aka.ms/azure-speaker-recognition. Créez une ressource *Voix* ou *Speech* et renseignez `SERVEUR` avec le serveur de votre point de terminaison (endpoint). Récupérez également la clé et renseignez là lors de l'exécution de la première cellule."
   ]
  },
  {
   "cell_type": "code",
   "execution_count": 1,
   "metadata": {},
   "outputs": [],
   "source": [
    "from getpass import getpass\n",
    "\n",
    "CLE = getpass(\"Clé\")\n",
    "SERVEUR = 'https://francecentral.api.cognitive.microsoft.com'  # Votre serveur de endpoint"
   ]
  },
  {
   "attachments": {},
   "cell_type": "markdown",
   "metadata": {},
   "source": [
    "## Création du profil"
   ]
  },
  {
   "cell_type": "code",
   "execution_count": null,
   "metadata": {},
   "outputs": [],
   "source": [
    "import requests\n",
    "\n",
    "reponse = requests.post(\n",
    "    url=f'{SERVEUR}/speaker-recognition/identification/text-independent/profiles?api-version=2021-09-05',\n",
    "    headers={'Ocp-Apim-Subscription-Key': CLE},\n",
    "    json={'locale': 'fr-FR'}\n",
    ")\n",
    "resultat = reponse.json()\n",
    "resultat"
   ]
  },
  {
   "cell_type": "code",
   "execution_count": null,
   "metadata": {},
   "outputs": [],
   "source": [
    "profil = resultat['profileId']\n",
    "profil"
   ]
  },
  {
   "attachments": {},
   "cell_type": "markdown",
   "metadata": {},
   "source": [
    "## Référencement de la voix"
   ]
  },
  {
   "cell_type": "code",
   "execution_count": null,
   "metadata": {},
   "outputs": [],
   "source": [
    "import requests\n",
    "\n",
    "reponse = requests.post(\n",
    "  url=f'{SERVEUR}/speaker-recognition/identification/text-independent/profiles/{profil}/enrollments?api-version=2021-09-05&ignoreMinLength=true',\n",
    "  headers={\n",
    "    'Ocp-Apim-Subscription-Key': CLE,\n",
    "    'Content-Type': 'audio/wav'\n",
    "  },\n",
    "  data=open('data/FR_1_b.WAV.WAV', 'rb').read()\n",
    ")\n",
    "reponse.json()"
   ]
  }
 ],
 "metadata": {
  "kernelspec": {
   "display_name": "Python 3",
   "language": "python",
   "name": "python3"
  },
  "language_info": {
   "codemirror_mode": {
    "name": "ipython",
    "version": 3
   },
   "file_extension": ".py",
   "mimetype": "text/x-python",
   "name": "python",
   "nbconvert_exporter": "python",
   "pygments_lexer": "ipython3",
   "version": "3.10.8"
  },
  "orig_nbformat": 4
 },
 "nbformat": 4,
 "nbformat_minor": 2
}
