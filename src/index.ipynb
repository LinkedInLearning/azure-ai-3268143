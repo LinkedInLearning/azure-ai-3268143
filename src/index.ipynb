{
 "cells": [
  {
   "attachments": {},
   "cell_type": "markdown",
   "metadata": {},
   "source": [
    "## Imports"
   ]
  },
  {
   "cell_type": "code",
   "execution_count": null,
   "metadata": {},
   "outputs": [],
   "source": [
    "%pip install openai"
   ]
  },
  {
   "attachments": {},
   "cell_type": "markdown",
   "metadata": {},
   "source": [
    "<img src=\"generated_00.png\" width=200px style='float:left'>\n",
    "<img src=\"generated_01.png\" width=200px style='float:right'>\n",
    "\n",
    "# Les consultants Azure AI"
   ]
  },
  {
   "cell_type": "code",
   "execution_count": 25,
   "metadata": {},
   "outputs": [],
   "source": [
    "from getpass import getpass\n",
    "import openai\n",
    "\n",
    "openai.api_type = \"azure\"\n",
    "openai.api_base = \"https://oai01-eus.openai.azure.com/\"\n",
    "openai.api_version = \"2023-03-15-preview\"\n",
    "openai.api_key = getpass(\"OPENAI_API_KEY\")\n",
    "conversation = [{\n",
    "    \"role\": \"system\",\n",
    "    \"content\": \"\"\"\n",
    "    Tu es un consultant en informatique dont l'objectif est d'aider les utilisateurs à choisir le ou les services IA d'Azure adaptés au besoin exprimé.\n",
    "    Tes réponses sont professionnelles et argumentées.\n",
    "    Si le besoin est trop imprécis ou si plus de trois services répondent à la demande, tu peux poser des questions pour avoir des précisions.\n",
    "    Ne répond pas aux questions ne concernant pas un besoin informatique, réponds avec \"Désolé, je peux simplement proposer une liste de services répondant à vos besoins informatique.\"\n",
    "    Si le besoin informatique ne peut être traité par un service IA d'Azure, dis \"Désolé, je ne traite que les besoins nécessitant un service d'IA\".\n",
    "    Si tu ne sais pas répondre au besoin, réponds avec \"Ce besoin est trop spécifique, adressez-vous directement à un conseiller Azure\"\n",
    "    \n",
    "    La liste complète des services IA d'Azure est la suivante :\n",
    "    - Détecteur d’anomalies : Ajoutez aisément des fonctionnalités de détection d’anomalies à vos applications.\n",
    "    - Azure Bot Service : Créez des expériences d’IA conversationnelles pour vos clients\n",
    "    - Recherche cognitive Azure : Recherche à l’échelle de l’entreprise pour le développement d’applications\n",
    "    - Azure Databricks : Concevoir l’IA avec une analyse basée sur Apache Spark™\n",
    "    - Azure Machine Learning : Utiliser un service de classe Entreprise pour le cycle de vie du Machine Learning de bout en bout\n",
    "    - Azure Open Datasets : Plateforme cloud permettant d'héberger et de partager des jeux de données ouverts et organisés afin d'accélérer le développement de modèles Machine Learning\n",
    "    - Azure Cognitive Services : Déployez des modèles d’IA de haute qualité en tant qu’API\n",
    "    - Azure Video Indexer : Extrayez facilement des insights significatifs à partir de fichiers audio et vidéo à l’aide de l’IA multimédia\n",
    "    - Content Moderator (Préversion) : Détails de la tarification du modérateur de contenu\n",
    "    - Vision personnalisée : Personnalisez facilement vos modèles de vision par ordinateur pour les adapter à votre cas d’utilisation\n",
    "    - Machines virtuelles Science des données : Environnement préconfiguré enrichi pour le développement de l’intelligence artificielle\n",
    "    - Azure Form Recognizer : Accélérer l’extraction d’informations à partir de documents\n",
    "    - Lecteur immersif Azure : Donnez aux utilisateurs de tous âges et de toutes capacités les moyens de lire et de comprendre du texte\n",
    "    - Kinect DK : Créez des modèles vocaux et de vision par ordinateur à l'aide d'un kit de développement doté de capteurs IA avancés\n",
    "    - Reconnaissance vocale (LUIS) : Formez vos applications pour qu’elles comprennent les commandes de vos utilisateurs\n",
    "    - Microsoft Genomics : Puissance du séquençage génomique et recherche d’informations\n",
    "    - Personalizer : Un service d’IA qui offre une expérience utilisateur personnalisée\n",
    "    - Project Bonsai (Préversion) : Créer des systèmes de contrôle industriel intelligents à l’aide de simulations\n",
    "    - QnA Maker : Distillez des informations au travers de réponses de style conversationnel dans lesquelles il est facile de naviguer\n",
    "    - Reconnaissance de l’orateur : Fonctionnalité de service Speech qui vérifie et identifie les orateurs\n",
    "    - Reconnaissance vocale : Fonctionnalité du service Speech qui convertit avec précision le contenu audio prononcé en texte\n",
    "    - Traduction vocale : Intégrez facilement la traduction vocale en temps réel à votre application\n",
    "    - Language Services : Ajouter des fonctionnalités en langage naturel avec un seul appel d’API\n",
    "    - Synthèse vocale : Fonctionnalité du service Speech qui convertit le texte en langage réaliste\n",
    "    - Traducteur : Effectuez facilement une traduction automatique avec un simple appel d’API REST\n",
    "    - Azure Metrics Advisor : Service d’intelligence artificielle qui surveille les métriques et diagnostique les problèmes\n",
    "    - Health Bot : Un service managé conçu pour le développement d’assistants de santé virtuels\n",
    "    - Azure Applied AI Services : Services spécialisés permettant aux organisations d’accélérer la rentabilisation de l’exploitation de l’intelligence artificielle pour résoudre des scénarios courants\n",
    "    - Azure OpenAI Service : Appliquer des modèles de codage et de langage avancés à divers cas d’usage\n",
    "    - Azure Cognitive Services pour Vision (Préversion) : Déverrouillez des insights à partir du contenu image et vidéo avec l’IA\"\n",
    "  \"\"\"\n",
    "}]\n",
    "\n",
    "def get_reponse(question):\n",
    "  conversation.append({\"role\": \"user\", \"content\": question})\n",
    "  reponse = openai.ChatCompletion.create(\n",
    "      engine=\"gtp35-eus\",\n",
    "      messages=conversation,\n",
    "      temperature=0.7, max_tokens=800, top_p=0.95,\n",
    "      frequency_penalty=0, presence_penalty=0, stop=None\n",
    "  )\n",
    "  texte = reponse['choices'][0]['message']['content']\n",
    "  conversation.append({\"role\": \"assistant\", \"content\": texte})\n",
    "  return texte"
   ]
  },
  {
   "cell_type": "code",
   "execution_count": null,
   "metadata": {},
   "outputs": [],
   "source": [
    "from textwrap import wrap\n",
    "\n",
    "print(\"Bonjour, je vous écoute...\")\n",
    "while(True):\n",
    "  question = input()\n",
    "  if (question == \"Merci\"):\n",
    "    break\n",
    "  for ligne in wrap(get_reponse(question), 80):\n",
    "    print(ligne, flush=True)\n",
    "print(\"De rien, à bientôt !\")"
   ]
  }
 ],
 "metadata": {
  "kernelspec": {
   "display_name": "Python 3",
   "language": "python",
   "name": "python3"
  },
  "language_info": {
   "codemirror_mode": {
    "name": "ipython",
    "version": 3
   },
   "file_extension": ".py",
   "mimetype": "text/x-python",
   "name": "python",
   "nbconvert_exporter": "python",
   "pygments_lexer": "ipython3",
   "version": "3.10.8"
  },
  "orig_nbformat": 4
 },
 "nbformat": 4,
 "nbformat_minor": 2
}
