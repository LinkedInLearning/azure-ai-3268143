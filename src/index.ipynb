{
 "cells": [
  {
   "attachments": {},
   "cell_type": "markdown",
   "metadata": {},
   "source": [
    "# Identification de visages"
   ]
  },
  {
   "attachments": {},
   "cell_type": "markdown",
   "metadata": {},
   "source": [
    "**IMPORTANT :** Créez une ressource *Visage* ou *Face* et renseignez `SERVEUR` avec votre point de terminaison (endpoint). Récupérez également la clé et renseignez là lors de l'exécution de la première cellule."
   ]
  },
  {
   "cell_type": "code",
   "execution_count": null,
   "metadata": {},
   "outputs": [],
   "source": [
    "from getpass import getpass\n",
    "\n",
    "CLE = getpass(\"Clé\")\n",
    "SERVEUR = 'https://face00.cognitiveservices.azure.com/'  # Votre point de terminaison\n",
    "\n",
    "GROUPE = 'alice-bob-carol-dave'\n",
    "PERSONNES = ['alice', 'bob', 'carol', 'dave']\n",
    "ATTENTE = 26"
   ]
  },
  {
   "attachments": {},
   "cell_type": "markdown",
   "metadata": {},
   "source": [
    "## Préparation\n",
    "### Création du groupe"
   ]
  },
  {
   "cell_type": "code",
   "execution_count": null,
   "metadata": {},
   "outputs": [],
   "source": [
    "import requests\n",
    "\n",
    "reponse = requests.put(\n",
    "  url = f'{SERVEUR}/face/v1.0/persongroups/{GROUPE}',\n",
    "  headers = {\n",
    "    'Ocp-Apim-Subscription-Key': CLE,\n",
    "    'Content-Type': 'application/json'\n",
    "  },\n",
    "  json = {\n",
    "    'name': 'Alice, Bob, Carol et Dave',\n",
    "    'recognitionModel': 'recognition_02'\n",
    "  }\n",
    ")\n",
    "reponse"
   ]
  },
  {
   "attachments": {},
   "cell_type": "markdown",
   "metadata": {},
   "source": [
    "### Ajout de personnes au groupe"
   ]
  },
  {
   "cell_type": "code",
   "execution_count": null,
   "metadata": {},
   "outputs": [],
   "source": [
    "import time\n",
    "\n",
    "ids={}\n",
    "for prenom in PERSONNES:\n",
    "  essai = True\n",
    "  while essai:\n",
    "    reponse = requests.post(\n",
    "      url = f'{SERVEUR}/face/v1.0/persongroups/{GROUPE}/persons',\n",
    "      headers = {\n",
    "        'Ocp-Apim-Subscription-Key': CLE,\n",
    "        'Content-Type': 'application/json',\n",
    "        'Accept': 'application/json'\n",
    "      },\n",
    "      json = { 'name': prenom }\n",
    "    )\n",
    "    if reponse.status_code==429:\n",
    "      time.sleep(ATTENTE)\n",
    "    else:\n",
    "      essai = False\n",
    "      identifiant = reponse.json()['personId']\n",
    "      ids[identifiant] = prenom\n",
    "      print(f'{prenom} ({identifiant}) :')\n",
    "      for i in range(5):\n",
    "        essai = True\n",
    "        while essai:\n",
    "          reponse = requests.post(\n",
    "            url = f'{SERVEUR}/face/v1.0/persongroups/{GROUPE}/persons/{identifiant}/persistedFaces',\n",
    "            headers = {\n",
    "              'Ocp-Apim-Subscription-Key': CLE,\n",
    "              'Content-Type': 'application/octet-stream'\n",
    "            },\n",
    "            data = open(f'data/{prenom}{i}.jpg', 'rb').read()\n",
    "          )\n",
    "          if reponse.status_code==429:\n",
    "            time.sleep(ATTENTE)\n",
    "          else:\n",
    "            essai = False\n",
    "            print(\"- %s%d.jpg : %s\" % (prenom, i, 'ok' if reponse.status_code==200 else reponse.json()['error']['message']))"
   ]
  },
  {
   "attachments": {},
   "cell_type": "markdown",
   "metadata": {},
   "source": [
    "### Entraînement à l'identification des visages"
   ]
  },
  {
   "cell_type": "code",
   "execution_count": null,
   "metadata": {},
   "outputs": [],
   "source": [
    "requests.post(\n",
    "  url = f'{SERVEUR}/face/v1.0/persongroups/{GROUPE}/train',\n",
    "  headers = {'Ocp-Apim-Subscription-Key': CLE}\n",
    ")"
   ]
  },
  {
   "attachments": {},
   "cell_type": "markdown",
   "metadata": {},
   "source": [
    "### Destruction du groupe"
   ]
  },
  {
   "cell_type": "code",
   "execution_count": null,
   "metadata": {},
   "outputs": [],
   "source": [
    "requests.delete(\n",
    "  url = f'{SERVEUR}/face/v1.0/persongroups/{GROUPE}',\n",
    "  headers = {'Ocp-Apim-Subscription-Key': CLE}\n",
    ")"
   ]
  },
  {
   "attachments": {},
   "cell_type": "markdown",
   "metadata": {},
   "source": [
    "## Identification\n",
    "### Appel API de détection"
   ]
  },
  {
   "cell_type": "code",
   "execution_count": null,
   "metadata": {},
   "outputs": [],
   "source": [
    "reponse = requests.post(\n",
    "  url = f'{SERVEUR}/face/v1.0/detect',\n",
    "  headers = {\n",
    "    'Ocp-Apim-Subscription-Key': CLE,\n",
    "    'Content-Type': 'application/octet-stream',\n",
    "    'Accept': 'application/json'\n",
    "  },\n",
    "  params = {'recognitionModel': 'recognition_02'},\n",
    "  data=open('data/groupe.jpg', 'rb').read()\n",
    ")\n",
    "visages = reponse.json()\n",
    "visages_id = [visage['faceId'] for visage in visages]"
   ]
  },
  {
   "attachments": {},
   "cell_type": "markdown",
   "metadata": {},
   "source": [
    "### Appel API d'identification"
   ]
  },
  {
   "cell_type": "code",
   "execution_count": null,
   "metadata": {},
   "outputs": [],
   "source": [
    "reponse = requests.post(\n",
    "  url = f'{SERVEUR}/face/v1.0/identify',\n",
    "  headers = {'Ocp-Apim-Subscription-Key': CLE},\n",
    "  json = {\n",
    "    'personGroupId': GROUPE,\n",
    "    'faceIds': visages_id,\n",
    "    \"maxNumOfCandidatesReturned\": 1,\n",
    "    \"confidenceThreshold\": 0.5\n",
    "  }\n",
    ")"
   ]
  },
  {
   "attachments": {},
   "cell_type": "markdown",
   "metadata": {},
   "source": [
    "### Traitement des résultats"
   ]
  },
  {
   "cell_type": "code",
   "execution_count": null,
   "metadata": {},
   "outputs": [],
   "source": [
    "noms = dict.fromkeys(visages_id, '?')\n",
    "for identite in reponse.json():\n",
    "  if len(identite['candidates']) > 0:\n",
    "    noms[identite['faceId']] = \"%s %d%%\" % (\n",
    "      ids[identite['candidates'][0]['personId']], \n",
    "      identite['candidates'][0]['confidence']*100\n",
    "    )"
   ]
  },
  {
   "cell_type": "code",
   "execution_count": null,
   "metadata": {},
   "outputs": [],
   "source": [
    "from pprint import pprint\n",
    "\n",
    "pprint(noms)"
   ]
  },
  {
   "attachments": {},
   "cell_type": "markdown",
   "metadata": {},
   "source": [
    "### Affichage sur la photo"
   ]
  },
  {
   "cell_type": "code",
   "execution_count": null,
   "metadata": {},
   "outputs": [],
   "source": [
    "import matplotlib.pyplot as plt\n",
    "import matplotlib.image as mpimg\n",
    "from matplotlib import patches\n",
    "\n",
    "plt.figure(figsize=(20, 20))\n",
    "img = plt.imshow(mpimg.imread('data/groupe.jpg'), alpha=0.6)\n",
    "for v in visages:\n",
    "  x, y, l, h = [v[\"faceRectangle\"][k]\n",
    "                for k in 'left top width height'.split(' ')]\n",
    "  img.axes.add_patch(patches.Rectangle(\n",
    "    (x, y), l, h, fill=False, linewidth=2, color='r'))\n",
    "  plt.text(x, y, noms[v['faceId']], fontsize=15, weight=\"bold\", va=\"bottom\")\n",
    "plt.axis(\"off\")\n"
   ]
  }
 ],
 "metadata": {
  "kernelspec": {
   "display_name": "Python 3",
   "language": "python",
   "name": "python3"
  },
  "language_info": {
   "codemirror_mode": {
    "name": "ipython",
    "version": 3
   },
   "file_extension": ".py",
   "mimetype": "text/x-python",
   "name": "python",
   "nbconvert_exporter": "python",
   "pygments_lexer": "ipython3",
   "version": "3.10.8"
  },
  "orig_nbformat": 4
 },
 "nbformat": 4,
 "nbformat_minor": 2
}
