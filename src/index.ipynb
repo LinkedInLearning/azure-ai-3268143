{
 "cells": [
  {
   "attachments": {},
   "cell_type": "markdown",
   "metadata": {},
   "source": [
    "## Imports"
   ]
  },
  {
   "attachments": {},
   "cell_type": "markdown",
   "metadata": {},
   "source": [
    "<img src=\"generated_00.png\" width=200px style='float:left'>\n",
    "<img src=\"generated_01.png\" width=200px style='float:right'>\n",
    "\n",
    "# Les consultants Azure AI"
   ]
  },
  {
   "cell_type": "code",
   "execution_count": 25,
   "metadata": {},
   "outputs": [],
   "source": [
    "def get_reponse(question):\n",
    "  return f\"La question était '{question}'.\""
   ]
  },
  {
   "cell_type": "code",
   "execution_count": null,
   "metadata": {},
   "outputs": [],
   "source": [
    "from textwrap import wrap\n",
    "\n",
    "print(\"Bonjour, je vous écoute...\")\n",
    "while(True):\n",
    "  question = input()\n",
    "  if (question == \"Merci\"):\n",
    "    break\n",
    "  for ligne in wrap(get_reponse(question), 80):\n",
    "    print(ligne, flush=True)\n",
    "print(\"De rien, à bientôt !\")"
   ]
  }
 ],
 "metadata": {
  "kernelspec": {
   "display_name": "Python 3",
   "language": "python",
   "name": "python3"
  },
  "language_info": {
   "codemirror_mode": {
    "name": "ipython",
    "version": 3
   },
   "file_extension": ".py",
   "mimetype": "text/x-python",
   "name": "python",
   "nbconvert_exporter": "python",
   "pygments_lexer": "ipython3",
   "version": "3.10.8"
  },
  "orig_nbformat": 4
 },
 "nbformat": 4,
 "nbformat_minor": 2
}
