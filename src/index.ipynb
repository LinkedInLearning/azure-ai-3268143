{
 "cells": [
  {
   "attachments": {},
   "cell_type": "markdown",
   "metadata": {},
   "source": [
    "# Transcription de paroles (Speech To Text)"
   ]
  },
  {
   "attachments": {},
   "cell_type": "markdown",
   "metadata": {},
   "source": [
    "**IMPORTANT :** Créez une ressource *Voix* ou *Speech* et renseignez `REGION` avec votre region. Récupérez également la clé et renseignez là lors de l'exécution de la première cellule."
   ]
  },
  {
   "cell_type": "code",
   "execution_count": 1,
   "metadata": {},
   "outputs": [],
   "source": [
    "from getpass import getpass\n",
    "\n",
    "CLE = getpass(\"Clé\")\n",
    "REGION = 'francecentral'  # Votre région"
   ]
  },
  {
   "attachments": {},
   "cell_type": "markdown",
   "metadata": {},
   "source": [
    "## Appel API"
   ]
  },
  {
   "cell_type": "code",
   "execution_count": 3,
   "metadata": {},
   "outputs": [],
   "source": [
    "import requests\n",
    "\n",
    "def transcrire(langue, fichier):\n",
    "  return requests.post(\n",
    "    url=f'https://{REGION}.stt.speech.microsoft.com/speech/recognition/conversation/cognitiveservices/v1?language={langue}&format=detailed',\n",
    "    headers = {\n",
    "      'Ocp-Apim-Subscription-Key': CLE,\n",
    "      'Content-Type': 'audio/wav'\n",
    "    },\n",
    "    data=open(fichier, 'rb').read()\n",
    "  ).json()"
   ]
  },
  {
   "attachments": {},
   "cell_type": "markdown",
   "metadata": {},
   "source": [
    "## Exemples"
   ]
  },
  {
   "cell_type": "code",
   "execution_count": 4,
   "metadata": {},
   "outputs": [
    {
     "data": {
      "text/plain": [
       "{'RecognitionStatus': 'Success',\n",
       " 'Offset': 2300000,\n",
       " 'Duration': 288200000,\n",
       " 'NBest': [{'Confidence': 0.79342836,\n",
       "   'Lexical': \"les développeurs professionnels usent et abusent joyeusement de ces commentaires et ils ont de très bonnes raisons pour cela premièrement les commentaires rendent le code hyper lisible et hyper compréhensible c'est exactement ce qui se passe ici dans norme live point c s regardez chaque style c s s est ici commenté c'est ça qui rend ce fichier si populaire et si simple à utiliser mais ce n'est pas tout les commentaires rendent également possible le travail en équipe\",\n",
       "   'ITN': \"les développeurs professionnels usent et abusent joyeusement de ces commentaires et ils ont de très bonnes raisons pour cela premièrement les commentaires rendent le code hyper lisible et hyper compréhensible c'est exactement ce qui se passe ici dans norme live point CS regardez chaque style CSS est ici commenté c'est ça qui rend ce fichier si populaire et si simple à utiliser mais ce n'est pas tout les commentaires rendent également possible le travail en équipe\",\n",
       "   'MaskedITN': \"les développeurs professionnels usent et abusent joyeusement de ces commentaires et ils ont de très bonnes raisons pour cela premièrement les commentaires rendent le code hyper lisible et hyper compréhensible c'est exactement ce qui se passe ici dans norme live point cs regardez chaque style css est ici commenté c'est ça qui rend ce fichier si populaire et si simple à utiliser mais ce n'est pas tout les commentaires rendent également possible le travail en équipe\",\n",
       "   'Display': \"Les développeurs professionnels usent et abusent joyeusement de ces commentaires et ils ont de très bonnes raisons pour cela. Premièrement, les commentaires rendent le code hyper lisible et hyper compréhensible. C'est exactement ce qui se passe ici dans norme Live point CS. Regardez chaque style CSS est ici commenté, C'est ça qui rend ce fichier si populaire et si simple à utiliser. Mais ce n'est pas tout, les commentaires rendent également possible le travail en équipe.\"}],\n",
       " 'DisplayText': \"Les développeurs professionnels usent et abusent joyeusement de ces commentaires et ils ont de très bonnes raisons pour cela. Premièrement, les commentaires rendent le code hyper lisible et hyper compréhensible. C'est exactement ce qui se passe ici dans norme Live point CS. Regardez chaque style CSS est ici commenté, C'est ça qui rend ce fichier si populaire et si simple à utiliser.Mais ce n'est pas tout, les commentaires rendent également possible le travail en équipe.\"}"
      ]
     },
     "execution_count": 4,
     "metadata": {},
     "output_type": "execute_result"
    }
   ],
   "source": [
    "transcrire('fr-fr', 'data/FR_1.WAV.wav')"
   ]
  },
  {
   "cell_type": "code",
   "execution_count": 5,
   "metadata": {},
   "outputs": [
    {
     "data": {
      "text/plain": [
       "{'RecognitionStatus': 'Success',\n",
       " 'Offset': 3700000,\n",
       " 'Duration': 236600000,\n",
       " 'NBest': [{'Confidence': 0.7611689,\n",
       "   'Lexical': 'esta tag seu repetir esta tag e seu conteúdo podem ser colocados no cabeçalho ou red do documento html dentro do corpo ou bare do elemento ou até mesmo depois onde você a coloca depende de vários fatores incluindo quando você quer que o script seja executado ou quando',\n",
       "   'ITN': 'esta tag seu repetir esta tag e seu conteúdo podem ser colocados no cabeçalho ou red do documento html dentro do corpo ou bare do elemento ou até mesmo depois onde você a coloca depende de vários fatores incluindo quando você quer que o script seja executado ou quando',\n",
       "   'MaskedITN': 'esta tag seu repetir esta tag e seu conteúdo podem ser colocados no cabeçalho ou red do documento html dentro do corpo ou bare do elemento ou até mesmo depois onde você a coloca depende de vários fatores incluindo quando você quer que o script seja executado ou quando',\n",
       "   'Display': 'Esta tag seu repetir esta tag e seu conteúdo podem ser colocados no cabeçalho ou Red. Do documento, HTML. Dentro do corpo ou bare do elemento, ou até mesmo depois. Onde você a coloca? Depende de vários fatores, incluindo quando você quer que o script seja executado ou quando.'}],\n",
       " 'DisplayText': 'Esta tag seu repetir esta tag e seu conteúdo podem ser colocados no cabeçalho ou Red.Do documento, HTML.Dentro do corpo ou bare do elemento, ou até mesmo depois.Onde você a coloca? Depende de vários fatores, incluindo quando você quer que o script seja executado ou quando.'}"
      ]
     },
     "execution_count": 5,
     "metadata": {},
     "output_type": "execute_result"
    }
   ],
   "source": [
    "transcrire('pt-br', 'data/BP_1.WAV.wav')"
   ]
  }
 ],
 "metadata": {
  "language_info": {
   "name": "python"
  },
  "orig_nbformat": 4
 },
 "nbformat": 4,
 "nbformat_minor": 2
}
